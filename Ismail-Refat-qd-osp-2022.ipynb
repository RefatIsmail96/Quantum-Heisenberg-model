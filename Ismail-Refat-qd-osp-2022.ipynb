{
 "cells": [
  {
   "cell_type": "markdown",
   "id": "mW6OzQc6hv8O",
   "metadata": {
    "id": "mW6OzQc6hv8O"
   },
   "source": [
    "# Quantum Simulation of the Heisenberg Model using Fast-Forwarded Trotterization on ibmq_jakarta\n",
    "\n",
    "Refat Ismail, Nikolaos Angelinos and Debarghya Chakraborty\n",
    "\n",
    "Category: Qiskit defaults\n"
   ]
  },
  {
   "cell_type": "markdown",
   "id": "d5211d1e-afc9-449e-bee6-e4b8605f92ef",
   "metadata": {
    "id": "d5211d1e-afc9-449e-bee6-e4b8605f92ef"
   },
   "source": [
    "## 0 Abstract\n",
    "Trotterization-based approaches to Quantum Simulation exhibit linear scaling of circuit depth with the number of trotterization steps, which limits their use on NISQ devices. Here we develop a new approach which dramatically reduces the number of two-qubit gates needed for large number of trotter steps. Our new approach, which we call Fast-Forwarded Trotterization, leverages established algorithms for efficient Unitary Synthesis to give a constant scaling of circuit depth with the number of trotter steps. This enables the construction of low-depth circuits for high number of trotter steps where the effects of trotter error is negligible. In addition, we employ Measurement Error Mitigation to deal with the fidelity loss coming from readout errors. Our runs give an average fidelity of $0.9912 \\pm 0.001$ on the noisy simulator. Our error analysis shows that our result is within $0.004 $ of the maximum possible fidelity for the same problem."
   ]
  },
  {
   "cell_type": "markdown",
   "id": "QckOLaN3fepp",
   "metadata": {
    "id": "QckOLaN3fepp"
   },
   "source": [
    "## 1 Introduction\n",
    "\n",
    "We develop a quantum circuit that evolves the initial $3$-qubit state $|110\\rangle$, for time from $t=0$ to $t=\\pi$, according to the Hamiltonian\n",
    "\\begin{equation}\n",
    "H= X_{1} X_{2} + Y_1 Y_2 +Z_{1}Z_{2}  + X_{2} X_{3} + Y_2 Y_3 + Z_{2}Z_{3} \n",
    "\\end{equation}\n",
    "Indices (1,2,3) correspond to qubits 5, 3 and 1 on ibmq_jakarta. We approximate the time-evolution operator by a trotterized version $U(t)\\approx U_{trott}(t,n)$ where $n$ is the number of Trotter steps."
   ]
  },
  {
   "cell_type": "markdown",
   "id": "rntP87FJfkdZ",
   "metadata": {
    "id": "rntP87FJfkdZ",
    "jp-MarkdownHeadingCollapsed": true,
    "tags": []
   },
   "source": [
    "## 2 Methods\n",
    "\n",
    "\n",
    "### 2-1 Fast Forwarded Trotterization\n",
    "\n",
    "\n",
    "On trotterizing a time-evolution operator, a trade-off arises between convergence to $U(t)$ and circuit depth, for large number of trotter steps. An additional challenge comes from the sub-optimal synthesis of three(or more)-qubit unitaries into native gates. Even using the current best Unitary Synthesis algorithms, this introduces further unnecessary gate-overhead that aggravates the circuit depth issue, making simulating $U(t)$ on NISQ devices particularly challenging. \n",
    "\n",
    "To address these two challenges, we implement our trotterization in a way that leverages the existence of optimal two-qubit unitary synthesis algorithms. In fact, two-qubit unitaries can always be synthesized using at most 3 CNOTs [1] .\n",
    "\n",
    "We start by expressing our Hamiltonian as: \n",
    "\n",
    "$$ H =  Q^{†} \\tilde{H} Q $$\n",
    "\n",
    "where $\\tilde{H}$ is a Hermitian operator acting on only two qubits, and Q is a 3-qubit unitary. This representation is possible because all eigenvalues of $ H $ have even multiplicity. Consequently, $U(t)$ would look like:\n",
    "\n",
    "$$ U(t) = \\exp{(-i t H)} = \\exp{(-i t Q^{†} \\tilde{H} Q)} = Q^{†} \\exp{(-i t  \\tilde{H} )}Q  $$ \n",
    "\n",
    "We make  the following choice of $\\tilde{H}$ and $Q$ out of all possible candidates : \n",
    "\n",
    "$$\\tilde{H} = Z_{1} + X_{1} + X_{3} + Z_{3} - X_{1} Z_{3} - Z_{1}X_{3}  $$ \n",
    "\n",
    "and,\n",
    "\n",
    "$$ Q  = X_2 CNOT_{3,2}CNOT_{1,2}X_2 CNOT_{2,1}CNOT_{2,3} $$ \n",
    "\n",
    "This choice fits well with ibmq_jakarta connectivity constraints. Details on how we constructed it and alternative choices are presented in the appendix. Next, we trotterize the operator exponential as follows:\n",
    "\n",
    "$$ U(t) \\approx U_{trott}(t,1) =  Q^{†} \\left(  \\exp{(-i t Z_{1} )} \\exp{(-i t Z_{3} )}\\exp{(i t Z_{1} X_{3}  )} \\exp{(-i t X_{1} )} \\exp{(-i t X_{3} )} \\exp{(i t X_{1} Z_{3})}  \\right) Q $$ \n",
    "\n",
    "for small t. For longer times, we see that the Q unitaries factor out as follows:\n",
    "\n",
    "$$ U(t) \\approx U_{trott}(t,n) = Q^{†} \\left[  \\exp{(-\\frac{i t}{n} Z_{1} )} \\exp{(-\\frac{i t}{n} Z_{3} )}\\exp{(\\frac{i t}{n}  Z_{1} X_{3} )} \\exp{(-\\frac{i t}{n}  X_{1}  )} \\exp{(-\\frac{i t}{n} X_{3} )} \\exp{(\\frac{i t}{n}X_{1} Z_{3})} \\right]^n Q $$ \n",
    "\n",
    "Notice that as we increase trotter steps, only the operator in brackets changes. This operator is a two-qubit unitary, which can be optimally implemented, as mentioned before, using only 3 CNOTs, regardless of how many trotter steps we have. This fixed scaling of CNOTs with trotter steps is why we call this approach Fast-Forwarded Trotterization, in analogy with existing Fast-Forwarding methods [2], where circuit depth of $U(t)$ scales sub-linearly with time evolved. It's worth noting that this feature is also exhibited in our approach. We highlight this further in the results section.\n",
    "\n",
    "In practice, we construct our trotterized circuit component by component and leave the job of optimally synthesizing two-qubit unitaries to Qiskit transpiler. We set the \"optimization_level\" option to 3, which effectively resynthesizes two-qubit blocks of gates in the circuit. Our resulting transpiled circuits have very low CNOT counts; as low as 2 CNOTs. We prefer this approach over importing Unitary Synthesis libraries because we believe it is more user-friendly.\n",
    "\n",
    "### 2-2 Measurement Error Mitigation\n",
    "Readout errors being another big part of device error, we choose to implement a standard mitigation technique: [Measurement Error Mitigation](https://qiskit.org/documentation/tutorials/noise/3_measurement_error_mitigation.html).\n",
    "\n",
    "References:\n",
    "\n",
    "[1] [Universal quantum circuit for two-qubit transformations with three controlled-NOT gates](https://journals.aps.org/pra/abstract/10.1103/PhysRevA.69.010301)\n",
    "\n",
    "[2] [Variational fast forwarding for quantum simulation beyond the coherence time](https://www.nature.com/articles/s41534-020-00302-0)"
   ]
  },
  {
   "cell_type": "markdown",
   "id": "CQ_tft8yH8AO",
   "metadata": {
    "id": "CQ_tft8yH8AO"
   },
   "source": [
    "## 3 Code"
   ]
  },
  {
   "cell_type": "markdown",
   "id": "cfdc8f2d-0288-4b01-8a3a-fda50b51744e",
   "metadata": {
    "id": "cfdc8f2d-0288-4b01-8a3a-fda50b51744e"
   },
   "source": [
    "### 3-1 Importing Libraries"
   ]
  },
  {
   "cell_type": "code",
   "execution_count": 1,
   "id": "d1548b05-e691-40a5-8b35-c0eaa87a2a72",
   "metadata": {
    "id": "d1548b05-e691-40a5-8b35-c0eaa87a2a72",
    "outputId": "f796f27d-d5d3-4f6a-e031-2012ac80b517"
   },
   "outputs": [
    {
     "name": "stderr",
     "output_type": "stream",
     "text": [
      "<frozen importlib._bootstrap>:219: RuntimeWarning: scipy._lib.messagestream.MessageStream size changed, may indicate binary incompatibility. Expected 56 from C header, got 64 from PyObject\n",
      "/tmp/ipykernel_123/1950993755.py:12: DeprecationWarning: The qiskit.ignis package is deprecated and has been supersceded by the qiskit-experiments project. Refer to the migration guide: https://github.com/Qiskit/qiskit-ignis#migration-guide on how to migrate to the new project.\n",
      "  from qiskit.ignis.verification.tomography import state_tomography_circuits, StateTomographyFitter\n"
     ]
    }
   ],
   "source": [
    "import numpy as np\n",
    "# Import qubit states Zero (|0>) and One (|1>), and Pauli operators (X, Y, Z)\n",
    "from qiskit.opflow import Zero, One, I, X, Y, Z\n",
    "\n",
    "# Importing standard Qiskit modules\n",
    "from qiskit import QuantumCircuit, QuantumRegister, IBMQ, execute, transpile, ClassicalRegister\n",
    "from qiskit.providers.aer import QasmSimulator\n",
    "from qiskit.tools.monitor import job_monitor\n",
    "from qiskit.circuit import Parameter\n",
    "\n",
    "# Import state tomography modules\n",
    "from qiskit.ignis.verification.tomography import state_tomography_circuits, StateTomographyFitter\n",
    "from qiskit.quantum_info import state_fidelity\n",
    "\n",
    "#for measurment error mitigation\n",
    "import qiskit.ignis.mitigation.measurement as mc\n",
    "\n",
    "#for symmetry verification\n",
    "from copy import deepcopy\n",
    "\n",
    "# suppress warnings\n",
    "import warnings\n",
    "warnings.filterwarnings('ignore')"
   ]
  },
  {
   "cell_type": "code",
   "execution_count": 9,
   "id": "ed98ef00-7847-4541-92b6-ac7800ed321c",
   "metadata": {},
   "outputs": [
    {
     "name": "stdout",
     "output_type": "stream",
     "text": [
      "Requirement already satisfied: qiskit in /opt/conda/lib/python3.8/site-packages (0.37.1)\n",
      "Collecting qiskit\n",
      "  Downloading qiskit-0.38.0.tar.gz (13 kB)\n",
      "Collecting qiskit-terra==0.21.2\n",
      "  Downloading qiskit_terra-0.21.2-cp38-cp38-manylinux_2_17_x86_64.manylinux2014_x86_64.whl (6.7 MB)\n",
      "\u001b[K     |████████████████████████████████| 6.7 MB 28 kB/s s eta 0:00:01\n",
      "\u001b[?25hCollecting qiskit-aer==0.11.0\n",
      "  Downloading qiskit_aer-0.11.0-cp38-cp38-manylinux_2_17_x86_64.manylinux2014_x86_64.whl (19.2 MB)\n",
      "\u001b[K     |████████████████████████████████| 19.2 MB 2.2 kB/s  eta 0:00:01 0:00:01\n",
      "\u001b[?25hRequirement already satisfied: qiskit-ibmq-provider==0.19.2 in /opt/conda/lib/python3.8/site-packages (from qiskit) (0.19.2)\n",
      "Requirement already satisfied: scipy>=1.0 in /opt/conda/lib/python3.8/site-packages (from qiskit-aer==0.11.0->qiskit) (1.8.0)\n",
      "Requirement already satisfied: numpy>=1.16.3 in /opt/conda/lib/python3.8/site-packages (from qiskit-aer==0.11.0->qiskit) (1.22.4)\n",
      "Requirement already satisfied: requests>=2.19 in /opt/conda/lib/python3.8/site-packages (from qiskit-ibmq-provider==0.19.2->qiskit) (2.27.1)\n",
      "Requirement already satisfied: websocket-client>=1.0.1 in /opt/conda/lib/python3.8/site-packages (from qiskit-ibmq-provider==0.19.2->qiskit) (1.3.2)\n",
      "Requirement already satisfied: websockets>=10.0 in /opt/conda/lib/python3.8/site-packages (from qiskit-ibmq-provider==0.19.2->qiskit) (10.3)\n",
      "Requirement already satisfied: requests-ntlm>=1.1.0 in /opt/conda/lib/python3.8/site-packages (from qiskit-ibmq-provider==0.19.2->qiskit) (1.1.0)\n",
      "Requirement already satisfied: urllib3>=1.21.1 in /opt/conda/lib/python3.8/site-packages (from qiskit-ibmq-provider==0.19.2->qiskit) (1.26.9)\n",
      "Requirement already satisfied: python-dateutil>=2.8.0 in /opt/conda/lib/python3.8/site-packages (from qiskit-ibmq-provider==0.19.2->qiskit) (2.8.2)\n",
      "Requirement already satisfied: sympy>=1.3 in /opt/conda/lib/python3.8/site-packages (from qiskit-terra==0.21.2->qiskit) (1.10.1)\n",
      "Requirement already satisfied: ply>=3.10 in /opt/conda/lib/python3.8/site-packages (from qiskit-terra==0.21.2->qiskit) (3.11)\n",
      "Requirement already satisfied: psutil>=5 in /opt/conda/lib/python3.8/site-packages (from qiskit-terra==0.21.2->qiskit) (5.9.0)\n",
      "Requirement already satisfied: symengine>=0.9 in /opt/conda/lib/python3.8/site-packages (from qiskit-terra==0.21.2->qiskit) (0.9.2)\n",
      "Requirement already satisfied: tweedledum<2.0,>=1.1 in /opt/conda/lib/python3.8/site-packages (from qiskit-terra==0.21.2->qiskit) (1.1.1)\n",
      "Requirement already satisfied: stevedore>=3.0.0 in /opt/conda/lib/python3.8/site-packages (from qiskit-terra==0.21.2->qiskit) (3.5.0)\n",
      "Requirement already satisfied: retworkx>=0.11.0 in /opt/conda/lib/python3.8/site-packages (from qiskit-terra==0.21.2->qiskit) (0.11.0)\n",
      "Requirement already satisfied: dill>=0.3 in /opt/conda/lib/python3.8/site-packages (from qiskit-terra==0.21.2->qiskit) (0.3.4)\n",
      "Requirement already satisfied: six>=1.5 in /opt/conda/lib/python3.8/site-packages (from python-dateutil>=2.8.0->qiskit-ibmq-provider==0.19.2->qiskit) (1.16.0)\n",
      "Requirement already satisfied: certifi>=2017.4.17 in /opt/conda/lib/python3.8/site-packages (from requests>=2.19->qiskit-ibmq-provider==0.19.2->qiskit) (2021.10.8)\n",
      "Requirement already satisfied: charset-normalizer~=2.0.0 in /opt/conda/lib/python3.8/site-packages (from requests>=2.19->qiskit-ibmq-provider==0.19.2->qiskit) (2.0.12)\n",
      "Requirement already satisfied: idna<4,>=2.5 in /opt/conda/lib/python3.8/site-packages (from requests>=2.19->qiskit-ibmq-provider==0.19.2->qiskit) (3.3)\n",
      "Requirement already satisfied: ntlm-auth>=1.0.2 in /opt/conda/lib/python3.8/site-packages (from requests-ntlm>=1.1.0->qiskit-ibmq-provider==0.19.2->qiskit) (1.5.0)\n",
      "Requirement already satisfied: cryptography>=1.3 in /opt/conda/lib/python3.8/site-packages (from requests-ntlm>=1.1.0->qiskit-ibmq-provider==0.19.2->qiskit) (36.0.2)\n",
      "Requirement already satisfied: cffi>=1.12 in /opt/conda/lib/python3.8/site-packages (from cryptography>=1.3->requests-ntlm>=1.1.0->qiskit-ibmq-provider==0.19.2->qiskit) (1.15.0)\n",
      "Requirement already satisfied: pycparser in /opt/conda/lib/python3.8/site-packages (from cffi>=1.12->cryptography>=1.3->requests-ntlm>=1.1.0->qiskit-ibmq-provider==0.19.2->qiskit) (2.21)\n",
      "Requirement already satisfied: pbr!=2.1.0,>=2.0.0 in /opt/conda/lib/python3.8/site-packages (from stevedore>=3.0.0->qiskit-terra==0.21.2->qiskit) (5.8.1)\n",
      "Requirement already satisfied: mpmath>=0.19 in /opt/conda/lib/python3.8/site-packages (from sympy>=1.3->qiskit-terra==0.21.2->qiskit) (1.2.1)\n",
      "Building wheels for collected packages: qiskit\n",
      "  Building wheel for qiskit (setup.py) ... \u001b[?25ldone\n",
      "\u001b[?25h  Created wheel for qiskit: filename=qiskit-0.38.0-py3-none-any.whl size=12147 sha256=c22e0744e3e21420f19aaf1ffe151d34167dfaee059d8917b1498718a516b496\n",
      "  Stored in directory: /home/jovyan/.cache/pip/wheels/20/44/04/94a2ed16931adbd92d43edff72cc9a9ac8721227ecbacd84eb\n",
      "Successfully built qiskit\n",
      "Installing collected packages: qiskit-terra, qiskit-aer, qiskit\n",
      "  Attempting uninstall: qiskit-terra\n",
      "    Found existing installation: qiskit-terra 0.21.1\n",
      "    Uninstalling qiskit-terra-0.21.1:\n",
      "      Successfully uninstalled qiskit-terra-0.21.1\n",
      "  Attempting uninstall: qiskit-aer\n",
      "    Found existing installation: qiskit-aer 0.10.4\n",
      "    Uninstalling qiskit-aer-0.10.4:\n",
      "      Successfully uninstalled qiskit-aer-0.10.4\n",
      "  Attempting uninstall: qiskit\n",
      "    Found existing installation: qiskit 0.37.1\n",
      "    Uninstalling qiskit-0.37.1:\n",
      "      Successfully uninstalled qiskit-0.37.1\n",
      "Successfully installed qiskit-0.38.0 qiskit-aer-0.11.0 qiskit-terra-0.21.2\n",
      "Note: you may need to restart the kernel to use updated packages.\n"
     ]
    }
   ],
   "source": [
    "pip install qiskit --upgrade"
   ]
  },
  {
   "cell_type": "markdown",
   "id": "900d2ab8-b568-4d28-87d8-473962fdc998",
   "metadata": {
    "id": "900d2ab8-b568-4d28-87d8-473962fdc998"
   },
   "source": [
    "### 3-2 Quantum Devices"
   ]
  },
  {
   "cell_type": "code",
   "execution_count": null,
   "id": "7345d1e9-4803-4bd8-a578-0af5294cb22a",
   "metadata": {
    "id": "7345d1e9-4803-4bd8-a578-0af5294cb22a"
   },
   "outputs": [],
   "source": [
    "#load IBMQ Account data\n",
    "\n",
    "#IBMQ.save_account(TOKEN) \n",
    "provider = IBMQ.load_account()"
   ]
  },
  {
   "cell_type": "code",
   "execution_count": 3,
   "id": "78e0af5d-6da9-4a08-912a-5a172535e03b",
   "metadata": {
    "id": "78e0af5d-6da9-4a08-912a-5a172535e03b"
   },
   "outputs": [],
   "source": [
    "# Get backend for experiment\n",
    "provider = IBMQ.get_provider(hub='ibm-q-community', group='ibmquantumawards', project='open-science-22')\n",
    "jakarta = provider.get_backend('ibmq_jakarta')\n",
    "\n",
    "# Simulated backend based on ibmq_jakarta's device noise profile\n",
    "sim_noisy_jakarta = QasmSimulator.from_backend(provider.get_backend('ibmq_jakarta'))\n",
    "\n",
    "# Noiseless simulated backend\n",
    "sim = QasmSimulator()"
   ]
  },
  {
   "cell_type": "markdown",
   "id": "d4e8a24c-5846-4de9-95ea-3033653c4037",
   "metadata": {
    "id": "d4e8a24c-5846-4de9-95ea-3033653c4037"
   },
   "source": [
    "### 3-3 Decomposition of $U(t)$ into Quantum Gates\n"
   ]
  },
  {
   "cell_type": "markdown",
   "id": "207beaa7-58e9-40c1-a35c-f359ddb7aa8b",
   "metadata": {
    "id": "207beaa7-58e9-40c1-a35c-f359ddb7aa8b"
   },
   "source": [
    "Building the circuit components"
   ]
  },
  {
   "cell_type": "code",
   "execution_count": 4,
   "id": "9156980e-d3a7-4494-8ad4-7ec15ca92e7f",
   "metadata": {
    "id": "9156980e-d3a7-4494-8ad4-7ec15ca92e7f"
   },
   "outputs": [],
   "source": [
    "# Parameterize variable t to be evaluated at t=pi later\n",
    "t = Parameter('t')"
   ]
  },
  {
   "cell_type": "code",
   "execution_count": 5,
   "id": "96cd091b-69e9-41fc-b3ee-e24d93c87bc1",
   "metadata": {
    "id": "96cd091b-69e9-41fc-b3ee-e24d93c87bc1"
   },
   "outputs": [],
   "source": [
    "# Build a subcircuit for X (t) two-qubit gate\n",
    "X_qr = QuantumRegister(1)\n",
    "X_qc = QuantumCircuit(X_qr, name='X')\n",
    "\n",
    "X_qc.rx(2*t, 0) \n",
    "# Convert custom quantum circuit into a gate\n",
    "X = X_qc.to_instruction()\n",
    "\n",
    "\n",
    "# Build a subcircuit for  -ZX  (t) two-qubit gate\n",
    "ZXminus_qr = QuantumRegister(2)\n",
    "ZXminus_qc = QuantumCircuit(ZXminus_qr, name='-ZX')\n",
    "\n",
    "ZXminus_qc.ry(-np.pi/2,1)\n",
    "ZXminus_qc.cnot(0,1)\n",
    "ZXminus_qc.rz(-2 * t, 1)\n",
    "ZXminus_qc.cnot(0,1)\n",
    "ZXminus_qc.ry(np.pi/2,1)\n",
    "\n",
    "# Convert custom quantum circuit into a gate\n",
    "ZXminus = ZXminus_qc.to_instruction()\n",
    "\n",
    "\n",
    "# Build a subcircuit for Z(t) two-qubit gate\n",
    "Z_qr = QuantumRegister(1)\n",
    "Z_qc = QuantumCircuit(Z_qr, name='Z')\n",
    "\n",
    "Z_qc.rz(2*t, 0) \n",
    "# Convert custom quantum circuit into a gate\n",
    "Z = Z_qc.to_instruction()"
   ]
  },
  {
   "cell_type": "markdown",
   "id": "57132cd1-0297-448a-b9ac-52de7c840d73",
   "metadata": {
    "id": "57132cd1-0297-448a-b9ac-52de7c840d73"
   },
   "source": [
    "Combining components to construct trotter gate\n",
    "$$ \\left(  \\exp{(-\\frac{i t}{n} Z_{1} )} \\exp{(-\\frac{i t}{n} Z_{3} )}\\exp{(\\frac{i t}{n}Z_{1} X_{3} )} \\exp{(-\\frac{i t}{n} X_{1} )} \\exp{(-\\frac{i t}{n} X_{3} )} \\exp{(\\frac{i t}{n} X_{1} Z_{3}   )} \\right)$$ "
   ]
  },
  {
   "cell_type": "code",
   "execution_count": 6,
   "id": "7a834d0b-93dc-41c8-95c9-69c9a9c6c2d7",
   "metadata": {
    "id": "7a834d0b-93dc-41c8-95c9-69c9a9c6c2d7",
    "outputId": "4fd9356a-de00-4f6b-89bb-0d1192a70ced"
   },
   "outputs": [
    {
     "data": {
      "image/png": "[encoded data removed]",
      "text/plain": [
       "<Figure size 340.669x204.68 with 1 Axes>"
      ]
     },
     "execution_count": 6,
     "metadata": {},
     "output_type": "execute_result"
    }
   ],
   "source": [
    "# Trotterization circuit\n",
    "num_qubits = 3\n",
    "\n",
    "Trot_qr = QuantumRegister(num_qubits)\n",
    "Trot_qc = QuantumCircuit(Trot_qr, name='Trot')\n",
    "\n",
    "Trot_qc.append(Z, [Trot_qr[2]])\n",
    "Trot_qc.append(Z, [Trot_qr[0]])\n",
    "Trot_qc.append(ZXminus, [Trot_qr[2],Trot_qr[0]])\n",
    "Trot_qc.append(X, [Trot_qr[2]])\n",
    "Trot_qc.append(X, [Trot_qr[0]])\n",
    "Trot_qc.append(ZXminus, [Trot_qr[0], Trot_qr[2]])\n",
    "    \n",
    "# Convert custom quantum circuit into a gate\n",
    "Trot_gate = Trot_qc.to_instruction()\n",
    "Trot_qc.draw()"
   ]
  },
  {
   "cell_type": "markdown",
   "id": "1b40a943-483c-4304-a83f-2ee1836d33eb",
   "metadata": {
    "id": "1b40a943-483c-4304-a83f-2ee1836d33eb"
   },
   "source": [
    "Implementing Unitary \n",
    "$$ Q  = X_2 CNOT_{3,2}CNOT_{1,2}X_2 CNOT_{2,1}CNOT_{2,3}. $$ "
   ]
  },
  {
   "cell_type": "code",
   "execution_count": 7,
   "id": "6813e5c2-26b7-4fcf-a4ed-0478c7360ef9",
   "metadata": {
    "id": "6813e5c2-26b7-4fcf-a4ed-0478c7360ef9",
    "outputId": "32aa599e-4d92-409d-fb8f-80809ad699fc"
   },
   "outputs": [
    {
     "data": {
      "image/png": "[encoded data removed]",
      "text/plain": [
       "<Figure size 461.069x204.68 with 1 Axes>"
      ]
     },
     "execution_count": 7,
     "metadata": {},
     "output_type": "execute_result"
    }
   ],
   "source": [
    "# Build a subcircuit for Q: H = Q^(dagger)(I \\otimes Htilde) Q\n",
    "Q_qr = QuantumRegister(3)\n",
    "Q_qc = QuantumCircuit(Q_qr, name='Q')\n",
    "\n",
    "Q_qc.cnot(1,0)\n",
    "Q_qc.cnot(1,2) \n",
    "Q_qc.x(1)\n",
    "Q_qc.cnot(2,1)\n",
    "Q_qc.cnot(0,1)\n",
    "Q_qc.x(1)\n",
    "\n",
    "# Convert custom quantum circuit into a gate\n",
    "Q = Q_qc.to_instruction()\n",
    "Q_qc.draw()"
   ]
  },
  {
   "cell_type": "markdown",
   "id": "0641237c-048e-41e7-b47c-88a364683fb7",
   "metadata": {
    "id": "0641237c-048e-41e7-b47c-88a364683fb7"
   },
   "source": [
    "### 3-5 Constructing our circuits"
   ]
  },
  {
   "cell_type": "markdown",
   "id": "1139ae87-b77b-4c74-a9a1-ea4dd789f123",
   "metadata": {
    "id": "1139ae87-b77b-4c74-a9a1-ea4dd789f123"
   },
   "source": [
    "Time evolution circuit.\n",
    "\n",
    "According to our analysis, discussed later, trotter error is effectively negligible for n>26 trotter steps. We  choose to implement n=31."
   ]
  },
  {
   "cell_type": "code",
   "execution_count": 8,
   "id": "c6135540-dcea-4313-8ce8-0eb8e3ee23e7",
   "metadata": {
    "id": "c6135540-dcea-4313-8ce8-0eb8e3ee23e7"
   },
   "outputs": [
    {
     "data": {
      "image/png": "[encoded data removed]",
      "text/plain": [
       "<Figure size 1604.87x1047.48 with 1 Axes>"
      ]
     },
     "execution_count": 8,
     "metadata": {},
     "output_type": "execute_result"
    }
   ],
   "source": [
    "# The final time of the state evolution\n",
    "target_time = np.pi\n",
    "\n",
    "# Number of trotter steps\n",
    "trotter_steps = 31 ### CAN BE >= 4\n",
    "\n",
    "# Initialize quantum circuit for 3 qubits\n",
    "qr = QuantumRegister(7)\n",
    "qc = QuantumCircuit(qr)\n",
    "\n",
    "\n",
    "# Prepare initial state (remember we are only evolving 3 of the 7 qubits on jakarta qubits (q_5, q_3, q_1) corresponding to the state |110>)\n",
    "qc.x([3,5])  # DO NOT MODIFY (|q_5,q_3,q_1> = |110>)\n",
    "qc.append(Q,[qr[1], qr[3], qr[5]]) #applying Q\n",
    "\n",
    "# Simulate time evolution under H_heis3 Hamiltonian\n",
    "for _ in range(trotter_steps):\n",
    "    qc.append(Trot_gate, [qr[1], qr[3], qr[5]])\n",
    "    \n",
    "qc.append(Q.inverse(),[qr[1], qr[3], qr[5]])  #applying Q^{dagger}\n",
    "\n",
    "# Evaluate simulation at target_time (t=pi) meaning each trotter step evolves pi/trotter_steps in time\n",
    "qc = qc.bind_parameters({t: target_time/trotter_steps});\n",
    "\n",
    "# Generate state tomography circuits to evaluate fidelity of simulation\n",
    "st_qcs = state_tomography_circuits(qc, [qr[1], qr[3], qr[5]]);\n",
    "\n",
    "st_qcs[-1].draw()\n",
    "#st_qcs[-1].decompose().draw()"
   ]
  },
  {
   "cell_type": "markdown",
   "id": "1a940364-cb32-4277-9f3e-65ecdadeddb3",
   "metadata": {
    "id": "1a940364-cb32-4277-9f3e-65ecdadeddb3"
   },
   "source": [
    "Measurement mitigation circuits"
   ]
  },
  {
   "cell_type": "code",
   "execution_count": 9,
   "id": "18e01d25-9d65-4625-8096-894519782710",
   "metadata": {
    "id": "18e01d25-9d65-4625-8096-894519782710"
   },
   "outputs": [],
   "source": [
    "#construct measurment calibration circuits and labels\n",
    "meas_calibs, state_labels = mc.complete_meas_cal(qubit_list=[1,3,5]);"
   ]
  },
  {
   "cell_type": "markdown",
   "id": "1742151c-1261-4b42-80a4-da2c0ad90ac5",
   "metadata": {
    "id": "1742151c-1261-4b42-80a4-da2c0ad90ac5"
   },
   "source": [
    "### 3-6 Execute\n",
    "Executing on Jakarta and simulators\n",
    "\n",
    "To tackle the randomness introduced during transpiling, as it depends on the generation of a random seed, we transpiled our (27) state tomography circuits and kept track of CNOT counts. We recorded the seeds which corresponded to the minimum number of CNOTs. We found a multitude of them and we randomly picked one."
   ]
  },
  {
   "cell_type": "code",
   "execution_count": 10,
   "id": "79c3ef21-c143-418a-8b50-f0ab39c5ae35",
   "metadata": {
    "id": "79c3ef21-c143-418a-8b50-f0ab39c5ae35"
   },
   "outputs": [
    {
     "name": "stdout",
     "output_type": "stream",
     "text": [
      "backend: ibmq_jakarta\n"
     ]
    }
   ],
   "source": [
    "reps = 8;\n",
    "shots=8192;\n",
    "optimization_level = 3 #Transpiler will optimize circuit including collapsing cnots, effectivelty fast forawrading trotterization\n",
    "initial_layout =[0, 1, 2, 3, 4, 5, 6]; #Forcing transpiler to use Jakarta qubit in the given circuit order to satisfy competition requirments\n",
    "seed_transpiler =6; # One of the seeds that minimize CNOT counts\n",
    "\n",
    "#backend = sim\n",
    "#backend = sim_noisy_jakarta\n",
    "backend = jakarta\n",
    "\n",
    "calibs_shots = 40000 # how many times to run meas calibs circuit\n",
    "\n",
    "print('backend:', backend)"
   ]
  },
  {
   "cell_type": "markdown",
   "id": "JKQRPXas7cXN",
   "metadata": {
    "id": "JKQRPXas7cXN"
   },
   "source": [
    "Executing circuits"
   ]
  },
  {
   "cell_type": "code",
   "execution_count": 58,
   "id": "8d50955d-431b-4121-8ac4-e97e0a5e768e",
   "metadata": {
    "id": "8d50955d-431b-4121-8ac4-e97e0a5e768e"
   },
   "outputs": [
    {
     "name": "stdout",
     "output_type": "stream",
     "text": [
      "jobs ids: ['2c42fea9-a7b6-4626-ad7a-83a3c022aab9', '6893f337-3034-4878-bf17-fad1c3491245', 'c877d614-ef39-48b3-a3a0-73ffbc9ccfd0', 'a3fddc72-a11a-479a-a2dd-804549b24e98', '4b6ba5fe-193b-47db-8ec3-1b4d235fe403', 'f4ea1946-fbc9-4a1a-96b8-086ada086f7e', 'd8fbb511-8327-4f7e-86bf-e7590f249dfe', '339e3b3b-a8ef-4729-8ca0-9189cf57ac1a']\n",
      "calibration circuits id: dbb7f862-f249-49b2-9ef1-1b4583a799c6\n"
     ]
    }
   ],
   "source": [
    "jobs = [];\n",
    "jobs_id =[];\n",
    "for _ in range(reps):\n",
    "    # execute\n",
    "    job = execute(st_qcs, backend= backend, shots= shots, optimization_level = optimization_level, initial_layout = initial_layout, seed_transpiler= seed_transpiler);\n",
    "    jobs_id.append(job.job_id());\n",
    "    jobs.append(job);\n",
    " \n",
    " #Measurement error mitigation\n",
    "job_cal = execute(meas_calibs, backend=backend, shots=calibs_shots);\n",
    "cal_id = job_cal.job_id();\n",
    "\n",
    "print('jobs ids:',jobs_id)\n",
    "print('calibration circuits id:', cal_id)\n"
   ]
  },
  {
   "cell_type": "markdown",
   "id": "e4186e06-db3d-4d0d-aef4-51906f41df61",
   "metadata": {
    "id": "e4186e06-db3d-4d0d-aef4-51906f41df61"
   },
   "source": [
    "### 3-7 Results Analysis\n",
    "Extract the results for the completed jobs and compute the state tomography fidelity for each repetition. You may choose to include other post-processing analyses here as well."
   ]
  },
  {
   "cell_type": "markdown",
   "id": "36d67974-195e-40e1-84d0-38a195f60077",
   "metadata": {
    "id": "36d67974-195e-40e1-84d0-38a195f60077"
   },
   "source": [
    "One of our Jakarta ran jobs IDs. It was still in queue as of time of submission. Please remove the ''' quotation marks at the start and finish if you want to retrieve it."
   ]
  },
  {
   "cell_type": "code",
   "execution_count": 23,
   "id": "f6c1e9c0-25b4-4ed1-8c73-556b331fe2e2",
   "metadata": {
    "id": "f6c1e9c0-25b4-4ed1-8c73-556b331fe2e2"
   },
   "outputs": [],
   "source": [
    "\n",
    "#retrieve jobs from job IDs\n",
    "\n",
    "job_ids = ['625b38c48e4b230d28d309c8', '625b38c60d8f1916e1ac1a51', '625b38c8a7e9665211dee814', '625b38caf1fb8d25013ad8d4', '625b38cc35e1ec01472536e5', '625b38cee1f2458e83eb6c91', '625b38d0a7e9660418dee815', '625b38d28e4b230daed309c9']\n",
    "cal_job_id = ['625b38d3a7e9661eccdee816']\n",
    "\n",
    "backend = jakarta\n",
    "    \n",
    "jobs = [];\n",
    "\n",
    "[jobs.append(backend.retrieve_job(job_ids[n])) for n in range(len(job_ids))];\n",
    "job_cal = backend.retrieve_job(cal_job_id[0])\n"
   ]
  },
  {
   "cell_type": "code",
   "execution_count": 24,
   "id": "ee15e54d-03cc-4640-89a2-3ebe25961b88",
   "metadata": {
    "id": "ee15e54d-03cc-4640-89a2-3ebe25961b88"
   },
   "outputs": [
    {
     "name": "stdout",
     "output_type": "stream",
     "text": [
      "JobStatus.DONE\n",
      "JobStatus.DONE\n",
      "JobStatus.DONE\n",
      "JobStatus.DONE\n",
      "JobStatus.DONE\n",
      "JobStatus.DONE\n",
      "JobStatus.DONE\n",
      "JobStatus.DONE\n",
      "JobStatus.DONE\n"
     ]
    }
   ],
   "source": [
    "for job in jobs:\n",
    "    print(job.status())\n",
    "print(job_cal.status())    "
   ]
  },
  {
   "cell_type": "markdown",
   "id": "f77afc60-1e1a-4154-8605-269251b30a8e",
   "metadata": {
    "id": "f77afc60-1e1a-4154-8605-269251b30a8e"
   },
   "source": [
    "Function to implement measurement error mitigation and state tomography"
   ]
  },
  {
   "cell_type": "code",
   "execution_count": 25,
   "id": "9f7b08f8-59eb-43b6-9a16-7e0e1651048c",
   "metadata": {
    "id": "9f7b08f8-59eb-43b6-9a16-7e0e1651048c"
   },
   "outputs": [],
   "source": [
    "# Compute the state tomography based on the st_qcs quantum circuits and the results from those ciricuits\n",
    "def state_tomo(result, st_qcs):\n",
    "    # The expected final state; necessary to determine state tomography fidelity\n",
    "    target_state = (One^One^Zero).to_matrix()  # DO NOT MODIFY (|q_5,q_3,q_1> = |110>)\n",
    "\n",
    "    #Pass result to StateTomoFitter \n",
    "    tomo_fitter = StateTomographyFitter(result, st_qcs); \n",
    "    # Fit state tomography results \n",
    "    rho_fit = tomo_fitter.fit(method='lstsq')\n",
    "    # Compute fidelity\n",
    "    fid = state_fidelity(rho_fit, target_state)\n",
    "    return fid"
   ]
  },
  {
   "cell_type": "markdown",
   "id": "62273b6d-867e-4229-812d-7bc4abb207f5",
   "metadata": {
    "id": "62273b6d-867e-4229-812d-7bc4abb207f5"
   },
   "source": [
    "Calling functions and filters used in mitigating errors and calculating fidelity"
   ]
  },
  {
   "cell_type": "code",
   "execution_count": 26,
   "id": "c3656dde-77ed-406f-b0c1-2ca4780ce022",
   "metadata": {
    "id": "c3656dde-77ed-406f-b0c1-2ca4780ce022"
   },
   "outputs": [
    {
     "name": "stdout",
     "output_type": "stream",
     "text": [
      "state tomography fidelity = 0.9941 ± 0.0012\n"
     ]
    }
   ],
   "source": [
    "#Create measurement mitigation filter\n",
    "meas_filter = mc.CompleteMeasFitter(job_cal.result(),state_labels).filter\n",
    "\n",
    "# Compute tomography fidelities for each repetition\n",
    "fids = []\n",
    "for job in jobs:\n",
    "    #applying Measurement Error Mitigation \n",
    "    mitiged_result = meas_filter.apply(job.result(), method='least_squares')\n",
    "    #computing fidelity\n",
    "    fid = state_tomo(mitiged_result, st_qcs)\n",
    "    fids.append(fid)\n",
    "    \n",
    "### print final result\n",
    "print('state tomography fidelity = {:.4f} \\u00B1 {:.4f}'.format(np.mean(fids), np.std(fids)))\n"
   ]
  },
  {
   "cell_type": "markdown",
   "id": "985865b1-b873-4a4b-aab0-455ac746db4b",
   "metadata": {
    "id": "985865b1-b873-4a4b-aab0-455ac746db4b"
   },
   "source": [
    "## 4 Results\n",
    "\n",
    "### 4-1 Circuit runs on noisy simulator\n",
    "Due to time constraints and long Jakarta queue, we were only able to simulate our circuit on the noisy simulator, which gave a fidelity of : $0.9912 ± 0.001$.\n",
    "\n",
    "\n",
    "### 4-2 Results for other initial states and longer times\n",
    "\n",
    "To explore how well our method works for arbitrary states and times, we evolve the following initial states for $t=10,20$ and $8$ reps on the noisy jakarta simulator. Because the resulting states are complicated, we needed to increase the number of shots. Our results are given in the table below.\n",
    "\n",
    "$$ \\begin{array}{llccc}\n",
    "\\mbox{Time} & \\mbox{Initial State} & \\mbox{Trotter Steps} & \\mbox{Shots} & \\mbox{Fidelity} \\\\\n",
    "\\hline\n",
    "\\mbox{10} & |110\\rangle &  120 & 40000 & 0.8829 ± 0.0013 \\\\\n",
    "\\mbox{10} & \\frac{1}{\\sqrt{2}} (|010\\rangle  + |101\\rangle )  & 120 &  40000 &  0.8718 ± 0.0006 \\\\   \n",
    "\\mbox{20} & |110\\rangle & 300 & 90000 & 0.8970 ± 0.0006 \\\\\n",
    "\\mbox{20} & \\frac{1}{\\sqrt{2}} (|010\\rangle  + |101\\rangle ) & 300  & 90000  & 0.8755 ± 0.0008 \\end{array} $$\n"
   ]
  },
  {
   "cell_type": "markdown",
   "id": "xzZXwMCCfwNT",
   "metadata": {
    "id": "xzZXwMCCfwNT"
   },
   "source": [
    "## 5 Discussion\n",
    "\n",
    "\n",
    "### 5-1 Comparison with the exact time evolution on a fully fault-tolerant device\n",
    "\n",
    "For the time of interest ($\\pi$), the exact time evolution is the identity operator. To mimic the effect of implementing that on a fully fault-tolerant device, we prepare $|110\\rangle$ and perform state tomography on the state, using the same parameters as our other circuits (8 reps, each with 8192 shots) on the noiseless QASM simulator. We get a fidelity of: $0.995 \\pm 0.001$. This shows that we are within 0.004 of the maximum possible fidelity, given the limited number of shots.\n",
    "\n",
    "\n",
    "### 5-2 Error analysis - trotter error suppression\n",
    "\n",
    "Our approach's main advantage is being able to explore circuits with large number of trotter steps, while keeping the circuit depth low. \n",
    "\n",
    "Implementing these low-depth, high trotter steps circuits on the noise-less simulator, we find that for $n>26$ trotter steps the fidelity we achieve is of the same order as the maximum possible fidelity mentioned above. This implies that all fidelity losses occur due to the finite number of state-tomography shots and that trotter error has been effectively suppressed. \n",
    "\n",
    "\n",
    "### 5-3 Future extensions\n",
    "\n",
    "Our approach shows a lot of promise for implementing Quantum Simulation within the constraints of NISQ devices. It reduces circuit depth without sacrificing accuracy, and it carries validity for long evolution times as well. Future work is needed to explore the possibility of systematically applying it to larger system sizes and different types of  Hamiltonians as well as to identify the method's limitations.\n"
   ]
  },
  {
   "cell_type": "markdown",
   "id": "amml7JETf23C",
   "metadata": {
    "id": "amml7JETf23C"
   },
   "source": [
    "## 6 Appendix \n",
    "\n",
    "\n",
    "### 6-1 Constructing Q and $\\tilde{H}(t)$\n",
    "\n",
    "There are multiple choices of unitary $Q$ that give a two-qubit $\\tilde{H}$. To find an optimal candidate (defined through CNOT cost) for $Q$, we restricted our search to permutation matrices. We looked for permutations that would put the Hamiltonian in a block-diagonal form, where both blocks are the same. Furthermore we restricted our search to even permutation matrices (permutation of basis states), leveraging the fact that CNOTs and X gates are even permutations and the rest of basis gates are not permutations at all. Thus odd permutation matrices like Toffoli gate, for example, tend to involve more CNOTs and gates like H and T.\n",
    "\n",
    "An alternative Q and $\\tilde{H}$  that we found in this way is:\n",
    "\n",
    "$$ Q  = X_1 CNOT_{3,1}CNOT_{2,1}X_1 CNOT_{1,2}CNOT_{1,3}. $$ \n",
    "and\n",
    "\n",
    "$$ \\tilde{H} =  Z_{2} - Z_2 X_3 + X_{3}  + X_{2} X_{3} + Y_2 Y_3 + Z_{2}Z_{3} $$\n",
    "\n",
    "The unitary in this case connects disconnected qubits on ibmq_jakarta (1 and 5), so we would need to do 4 swap operations (2 for $Q$ and 2 for $Q^{†}$). Compare this to our implementation in the code which would require only 2 swap operations (6 CNOTs less). After leveraging these various ideas, we are able to synthesize $U_{trott}(t)$ with 2 $CNOT$s using Qiskit's transpiler. A naive implementaton of $Q$ on Qiskit's transpiler, even with aggressive optimization, would have a CNOT cost of at least an order of magnitude higher."
   ]
  }
 ],
 "metadata": {
  "colab": {
   "collapsed_sections": [
    "d5211d1e-afc9-449e-bee6-e4b8605f92ef",
    "QckOLaN3fepp",
    "rntP87FJfkdZ",
    "cfdc8f2d-0288-4b01-8a3a-fda50b51744e",
    "900d2ab8-b568-4d28-87d8-473962fdc998",
    "d4e8a24c-5846-4de9-95ea-3033653c4037",
    "0641237c-048e-41e7-b47c-88a364683fb7",
    "1742151c-1261-4b42-80a4-da2c0ad90ac5",
    "e4186e06-db3d-4d0d-aef4-51906f41df61",
    "985865b1-b873-4a4b-aab0-455ac746db4b",
    "xzZXwMCCfwNT",
    "amml7JETf23C"
   ],
   "name": "Cleaned_Submission_final (1).ipynb",
   "provenance": []
  },
  "kernelspec": {
   "display_name": "Python 3 (ipykernel)",
   "language": "python",
   "name": "python3"
  },
  "language_info": {
   "codemirror_mode": {
    "name": "ipython",
    "version": 3
   },
   "file_extension": ".py",
   "mimetype": "text/x-python",
   "name": "python",
   "nbconvert_exporter": "python",
   "pygments_lexer": "ipython3",
   "version": "3.8.13"
  },
  "toc-autonumbering": false,
  "toc-showcode": false,
  "toc-showmarkdowntxt": false,
  "toc-showtags": false,
  "widgets": {
   "application/vnd.jupyter.widget-state+json": {
    "state": {},
    "version_major": 2,
    "version_minor": 0
   }
  }
 },
 "nbformat": 4,
 "nbformat_minor": 5
}
